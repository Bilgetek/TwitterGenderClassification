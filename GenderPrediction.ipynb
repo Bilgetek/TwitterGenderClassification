{
 "cells": [
  {
   "cell_type": "code",
   "execution_count": 2,
   "metadata": {},
   "outputs": [],
   "source": [
    "# nltk.download()\n",
    "import numpy as np \n",
    "import pandas as pd\n",
    "import nltk\n",
    "import re # Regular Expression\n",
    "\n",
    "from sklearn.metrics import accuracy_score # to calculate accuracy"
   ]
  },
  {
   "cell_type": "code",
   "execution_count": 3,
   "metadata": {},
   "outputs": [],
   "source": [
    "data = pd.read_csv(\"gender-classifier-DFE-791531.csv\", encoding=\"latin1\")\n",
    "\n",
    "data = pd.concat([data.gender, data.description], axis=1) # we only select gender and decription(tweet) columns\n",
    "data.dropna(axis = 0, inplace = True) # to dropped the null rows"
   ]
  },
  {
   "cell_type": "code",
   "execution_count": 4,
   "metadata": {},
   "outputs": [
    {
     "data": {
      "text/html": [
       "<div>\n",
       "<style scoped>\n",
       "    .dataframe tbody tr th:only-of-type {\n",
       "        vertical-align: middle;\n",
       "    }\n",
       "\n",
       "    .dataframe tbody tr th {\n",
       "        vertical-align: top;\n",
       "    }\n",
       "\n",
       "    .dataframe thead th {\n",
       "        text-align: right;\n",
       "    }\n",
       "</style>\n",
       "<table border=\"1\" class=\"dataframe\">\n",
       "  <thead>\n",
       "    <tr style=\"text-align: right;\">\n",
       "      <th></th>\n",
       "      <th>gender</th>\n",
       "      <th>description</th>\n",
       "    </tr>\n",
       "  </thead>\n",
       "  <tbody>\n",
       "    <tr>\n",
       "      <th>0</th>\n",
       "      <td>male</td>\n",
       "      <td>i sing my own rhythm.</td>\n",
       "    </tr>\n",
       "    <tr>\n",
       "      <th>1</th>\n",
       "      <td>male</td>\n",
       "      <td>I'm the author of novels filled with family dr...</td>\n",
       "    </tr>\n",
       "    <tr>\n",
       "      <th>2</th>\n",
       "      <td>male</td>\n",
       "      <td>louis whining and squealing and all</td>\n",
       "    </tr>\n",
       "    <tr>\n",
       "      <th>3</th>\n",
       "      <td>male</td>\n",
       "      <td>Mobile guy.  49ers, Shazam, Google, Kleiner Pe...</td>\n",
       "    </tr>\n",
       "    <tr>\n",
       "      <th>4</th>\n",
       "      <td>female</td>\n",
       "      <td>Ricky Wilson The Best FRONTMAN/Kaiser Chiefs T...</td>\n",
       "    </tr>\n",
       "    <tr>\n",
       "      <th>5</th>\n",
       "      <td>female</td>\n",
       "      <td>you don't know me.</td>\n",
       "    </tr>\n",
       "    <tr>\n",
       "      <th>6</th>\n",
       "      <td>brand</td>\n",
       "      <td>A global marketplace for images, videos and mu...</td>\n",
       "    </tr>\n",
       "  </tbody>\n",
       "</table>\n",
       "</div>"
      ],
      "text/plain": [
       "   gender                                        description\n",
       "0    male                              i sing my own rhythm.\n",
       "1    male  I'm the author of novels filled with family dr...\n",
       "2    male                louis whining and squealing and all\n",
       "3    male  Mobile guy.  49ers, Shazam, Google, Kleiner Pe...\n",
       "4  female  Ricky Wilson The Best FRONTMAN/Kaiser Chiefs T...\n",
       "5  female                                 you don't know me.\n",
       "6   brand  A global marketplace for images, videos and mu..."
      ]
     },
     "execution_count": 4,
     "metadata": {},
     "output_type": "execute_result"
    }
   ],
   "source": [
    "data.head(7)"
   ]
  },
  {
   "cell_type": "code",
   "execution_count": 5,
   "metadata": {},
   "outputs": [
    {
     "name": "stdout",
     "output_type": "stream",
     "text": [
      "Total female tweets :  5725\n",
      "Total brand tweets  :  4328\n",
      "Total male tweets   :  5469\n"
     ]
    }
   ],
   "source": [
    "get_female = data[\"gender\"] == \"female\" # to select specific gender\n",
    "get_male = data[\"gender\"] == \"male\"\n",
    "get_brand = data[\"gender\"] == \"brand\"\n",
    "\n",
    "female_rows = data[get_female]\n",
    "male_rows = data[get_male]\n",
    "brand_rows = data[get_brand]\n",
    "\n",
    "print(\"Total female tweets : \", female_rows.count().gender) # to see counts of genders\n",
    "print(\"Total brand tweets  : \", brand_rows.count().gender)\n",
    "print(\"Total male tweets   : \", male_rows.count().gender)"
   ]
  },
  {
   "cell_type": "code",
   "execution_count": 6,
   "metadata": {},
   "outputs": [
    {
     "name": "stderr",
     "output_type": "stream",
     "text": [
      "D:\\Anaconda\\lib\\site-packages\\pandas\\core\\generic.py:5303: SettingWithCopyWarning: \n",
      "A value is trying to be set on a copy of a slice from a DataFrame.\n",
      "Try using .loc[row_indexer,col_indexer] = value instead\n",
      "\n",
      "See the caveats in the documentation: https://pandas.pydata.org/pandas-docs/stable/user_guide/indexing.html#returning-a-view-versus-a-copy\n",
      "  self[name] = value\n"
     ]
    }
   ],
   "source": [
    "female_rows.gender = 0\n",
    "male_rows.gender = 1\n",
    "brand_rows.gender = 2"
   ]
  },
  {
   "cell_type": "code",
   "execution_count": 7,
   "metadata": {},
   "outputs": [],
   "source": [
    "# frames = [female_rows, male_rows, brand_rows] list'den frame e gecis\n",
    "data = pd.concat([female_rows, male_rows, brand_rows], ignore_index=False) #to concatanate the gender rows"
   ]
  },
  {
   "cell_type": "code",
   "execution_count": 8,
   "metadata": {},
   "outputs": [
    {
     "data": {
      "text/html": [
       "<div>\n",
       "<style scoped>\n",
       "    .dataframe tbody tr th:only-of-type {\n",
       "        vertical-align: middle;\n",
       "    }\n",
       "\n",
       "    .dataframe tbody tr th {\n",
       "        vertical-align: top;\n",
       "    }\n",
       "\n",
       "    .dataframe thead th {\n",
       "        text-align: right;\n",
       "    }\n",
       "</style>\n",
       "<table border=\"1\" class=\"dataframe\">\n",
       "  <thead>\n",
       "    <tr style=\"text-align: right;\">\n",
       "      <th></th>\n",
       "      <th>gender</th>\n",
       "      <th>description</th>\n",
       "    </tr>\n",
       "  </thead>\n",
       "  <tbody>\n",
       "    <tr>\n",
       "      <th>4</th>\n",
       "      <td>0</td>\n",
       "      <td>Ricky Wilson The Best FRONTMAN/Kaiser Chiefs T...</td>\n",
       "    </tr>\n",
       "    <tr>\n",
       "      <th>5</th>\n",
       "      <td>0</td>\n",
       "      <td>you don't know me.</td>\n",
       "    </tr>\n",
       "    <tr>\n",
       "      <th>8</th>\n",
       "      <td>0</td>\n",
       "      <td>Pll Fan // Crazy about MCD // Ramen is bae</td>\n",
       "    </tr>\n",
       "    <tr>\n",
       "      <th>9</th>\n",
       "      <td>0</td>\n",
       "      <td>Renaissance art historian, University of Notti...</td>\n",
       "    </tr>\n",
       "    <tr>\n",
       "      <th>12</th>\n",
       "      <td>0</td>\n",
       "      <td>Senior '16 . XI-XII-MMXIV.</td>\n",
       "    </tr>\n",
       "    <tr>\n",
       "      <th>...</th>\n",
       "      <td>...</td>\n",
       "      <td>...</td>\n",
       "    </tr>\n",
       "    <tr>\n",
       "      <th>20030</th>\n",
       "      <td>2</td>\n",
       "      <td>Crowdsourcing #Innovation! The FINND connects ...</td>\n",
       "    </tr>\n",
       "    <tr>\n",
       "      <th>20034</th>\n",
       "      <td>2</td>\n",
       "      <td>Where Raleigh's dynamic leaders come to connec...</td>\n",
       "    </tr>\n",
       "    <tr>\n",
       "      <th>20038</th>\n",
       "      <td>2</td>\n",
       "      <td>The FUN site for Animal Lovers - Get the lates...</td>\n",
       "    </tr>\n",
       "    <tr>\n",
       "      <th>20041</th>\n",
       "      <td>2</td>\n",
       "      <td>When families go through divorce, it's helpful...</td>\n",
       "    </tr>\n",
       "    <tr>\n",
       "      <th>20042</th>\n",
       "      <td>2</td>\n",
       "      <td>Reviews of delectable #food, picturesque #trav...</td>\n",
       "    </tr>\n",
       "  </tbody>\n",
       "</table>\n",
       "<p>15522 rows × 2 columns</p>\n",
       "</div>"
      ],
      "text/plain": [
       "       gender                                        description\n",
       "4           0  Ricky Wilson The Best FRONTMAN/Kaiser Chiefs T...\n",
       "5           0                                 you don't know me.\n",
       "8           0         Pll Fan // Crazy about MCD // Ramen is bae\n",
       "9           0  Renaissance art historian, University of Notti...\n",
       "12          0                         Senior '16 . XI-XII-MMXIV.\n",
       "...       ...                                                ...\n",
       "20030       2  Crowdsourcing #Innovation! The FINND connects ...\n",
       "20034       2  Where Raleigh's dynamic leaders come to connec...\n",
       "20038       2  The FUN site for Animal Lovers - Get the lates...\n",
       "20041       2  When families go through divorce, it's helpful...\n",
       "20042       2  Reviews of delectable #food, picturesque #trav...\n",
       "\n",
       "[15522 rows x 2 columns]"
      ]
     },
     "execution_count": 8,
     "metadata": {},
     "output_type": "execute_result"
    }
   ],
   "source": [
    "data"
   ]
  },
  {
   "cell_type": "code",
   "execution_count": 9,
   "metadata": {
    "scrolled": true
   },
   "outputs": [],
   "source": [
    "from nltk.corpus import stopwords\n",
    "\n",
    "description_list = []\n",
    "for description in data.description:\n",
    "    description = re.sub(\"[^a-zA-Z]\", \" \", description)\n",
    "    # sub method finds the given pattern ([^a-zA-Z] means, NOT letter like \":\") and changes them with \" \" (space)\n",
    "    description = description.lower()\n",
    "    # we need to have all letters lowercase (because A is not equall to a)\n",
    "    description = nltk.word_tokenize(description)\n",
    "    \n",
    "    description = [word for word in description if not word in set(stopwords.words(\"english\"))] # we make a word list from our text\n",
    "    \n",
    "    lemma = nltk.WordNetLemmatizer()\n",
    "    description = [lemma.lemmatize(word) for word in description] # to find the roots of each words with lemma\n",
    "    \n",
    "    description = \" \".join(description) # to combine the words back together \n",
    "    description_list.append(description) # to add our texts to list"
   ]
  },
  {
   "cell_type": "code",
   "execution_count": 10,
   "metadata": {},
   "outputs": [
    {
     "name": "stdout",
     "output_type": "stream",
     "text": [
      "Original version:  Beauty begins the moment you decide to be yourself - Coco Chanel ëÒë_ëÕ\n",
      "New version:       beauty begin moment decide coco chanel\n"
     ]
    }
   ],
   "source": [
    "print(\"Original version: \", data.description.iloc[3982]) # here, we check if our stopwords function works\n",
    "print(\"New version:      \", description_list[3982])  # as we see, new version is cleared of stopwords."
   ]
  },
  {
   "cell_type": "code",
   "execution_count": 11,
   "metadata": {
    "scrolled": true
   },
   "outputs": [
    {
     "name": "stdout",
     "output_type": "stream",
     "text": [
      "Top used 1000 words: ['account', 'action', 'activist', 'actor', 'actress', 'add', 'addict', 'addicted', 'adult', 'adventure', 'advertising', 'advice', 'advisor', 'advocate', 'affair', 'affiliate', 'aficionado', 'african', 'age', 'agency', 'air', 'aka', 'alive', 'alternative', 'alum', 'alumnus', 'amateur', 'amazing', 'amazon', 'ambassador', 'america', 'american', 'analysis', 'analyst', 'android', 'angel', 'animal', 'anime', 'answer', 'anti', 'app', 'apple', 'area', 'arsenal', 'art', 'artist', 'ask', 'aspiring', 'assistant', 'associate', 'association', 'atheist', 'athlete', 'athletics', 'author', 'available', 'average', 'avid', 'award', 'away', 'awesome', 'baby', 'bad', 'bae', 'ball', 'band', 'bar', 'baseball', 'based', 'basketball', 'beach', 'bear', 'beat', 'beautiful', 'beauty', 'beer', 'believe', 'believer', 'best', 'better', 'bieber', 'big', 'biggest', 'bio', 'bit', 'bitch', 'black', 'blacklivesmatter', 'blessed', 'blind', 'blog', 'blogger', 'blue', 'board', 'body', 'book', 'booking', 'born', 'bot', 'boxing', 'boy', 'brain', 'brand', 'breaking', 'bring', 'bringing', 'british', 'broken', 'brother', 'brown', 'build', 'building', 'business', 'buy', 'ca', 'cab', 'cake', 'california', 'called', 'canada', 'canadian', 'cancer', 'car', 'card', 'care', 'career', 'cat', 'cause', 'celebrity', 'center', 'ceo', 'certified', 'champion', 'change', 'channel', 'character', 'chat', 'check', 'chef', 'chelsea', 'chicago', 'chief', 'child', 'chocolate', 'choice', 'christ', 'christian', 'church', 'city', 'class', 'classic', 'click', 'client', 'cloud', 'club', 'coach', 'coast', 'coffee', 'collector', 'college', 'com', 'come', 'comedian', 'comic', 'coming', 'commercial', 'communication', 'community', 'company', 'computer', 'concert', 'connect', 'conservative', 'consultant', 'contact', 'content', 'continuous', 'contributor', 'control', 'cook', 'cool', 'country', 'county', 'course', 'cover', 'coverage', 'covering', 'craft', 'crazy', 'create', 'created', 'creating', 'creative', 'creator', 'credit', 'cricket', 'culture', 'curator', 'current', 'currently', 'customer', 'cute', 'da', 'dad', 'daddy', 'daily', 'damn', 'dan', 'dance', 'dancer', 'dark', 'data', 'date', 'daughter', 'day', 'dc', 'dead', 'deal', 'death', 'dedicated', 'deep', 'delivers', 'design', 'designer', 'developer', 'development', 'die', 'diet', 'different', 'digital', 'direction', 'director', 'discover', 'disney', 'dj', 'dm', 'dog', 'dont', 'draw', 'dream', 'dreamer', 'drink', 'dude', 'eagle', 'earth', 'east', 'easy', 'eat', 'ed', 'editor', 'education', 'el', 'email', 'employer', 'empowered', 'en', 'end', 'endorsement', 'energy', 'engineer', 'england', 'english', 'enjoy', 'entertainment', 'enthusiast', 'entrepreneur', 'er', 'especially', 'est', 'estate', 'et', 'event', 'everyday', 'ex', 'executive', 'experience', 'expert', 'expressed', 'extremely', 'eye', 'face', 'facebook', 'fact', 'fair', 'faith', 'fall', 'family', 'fan', 'fanatic', 'fangirl', 'fantasy', 'fashion', 'fast', 'father', 'favorite', 'fb', 'fc', 'fear', 'feature', 'feed', 'feel', 'female', 'feminist', 'fi', 'fiction', 'fight', 'fighting', 'film', 'finance', 'financial', 'financially', 'finding', 'fine', 'firm', 'fish', 'fitness', 'fl', 'flash', 'florida', 'flower', 'fly', 'fm', 'focus', 'follow', 'followed', 'follower', 'following', 'follows', 'food', 'foodie', 'football', 'forever', 'founder', 'freak', 'free', 'freedom', 'freelance', 'fresh', 'friend', 'friendly', 'fuck', 'fucking', 'fun', 'funny', 'future', 'game', 'gamer', 'gaming', 'gay', 'geek', 'general', 'geo', 'geography', 'getting', 'gift', 'girl', 'global', 'gmail', 'goal', 'god', 'going', 'gold', 'golf', 'gon', 'good', 'google', 'got', 'government', 'grad', 'graduate', 'graphic', 'great', 'greatest', 'green', 'grfoxfjwpv', 'group', 'grow', 'growing', 'guide', 'guitar', 'guy', 'gym', 'hair', 'half', 'hand', 'happen', 'happening', 'happiness', 'happy', 'hard', 'harry', 'hate', 'head', 'health', 'healthcare', 'healthy', 'heart', 'hell', 'hello', 'help', 'helping', 'hero', 'hey', 'hi', 'high', 'highly', 'hip', 'history', 'hit', 'hockey', 'home', 'hop', 'hope', 'host', 'hot', 'hottest', 'hour', 'house', 'houston', 'http', 'huge', 'human', 'humble', 'husband', 'idea', 'ig', 'im', 'image', 'important', 'improve', 'independent', 'indie', 'individual', 'industry', 'info', 'information', 'innovation', 'inquiry', 'inspiration', 'inspirational', 'insta', 'instagram', 'interested', 'interesting', 'international', 'internet', 'interview', 'investment', 'io', 'iphone', 'irish', 'issue', 'itunes', 'jack', 'james', 'jesus', 'job', 'john', 'join', 'joke', 'journalist', 'junior', 'junkie', 'justice', 'justin', 'kath', 'keeping', 'key', 'kid', 'kind', 'king', 'know', 'knowledge', 'known', 'la', 'lady', 'largest', 'latest', 'laugh', 'law', 'lawyer', 'le', 'lead', 'leader', 'leadership', 'leading', 'league', 'learn', 'learning', 'leave', 'left', 'legal', 'legend', 'lesson', 'let', 'level', 'liberal', 'library', 'life', 'lifestyle', 'light', 'like', 'lil', 'line', 'link', 'listen', 'little', 'live', 'liverpool', 'living', 'local', 'location', 'london', 'long', 'look', 'looking', 'lord', 'los', 'lost', 'lot', 'louis', 'love', 'loved', 'lover', 'loving', 'mad', 'magazine', 'mail', 'major', 'make', 'maker', 'makeup', 'making', 'male', 'man', 'management', 'manager', 'managing', 'manchester', 'map', 'market', 'marketer', 'marketing', 'married', 'master', 'math', 'matter', 'maybe', 'mean', 'medical', 'medium', 'meet', 'member', 'men', 'met', 'metal', 'mi', 'miami', 'michael', 'military', 'mind', 'minute', 'miss', 'mission', 'mix', 'mobile', 'model', 'modern', 'mom', 'moment', 'mon', 'monday', 'money', 'moon', 'morning', 'mother', 'movie', 'mr', 'mufc', 'mum', 'music', 'musician', 'na', 'nation', 'national', 'native', 'natural', 'nature', 'nba', 'nd', 'need', 'nerd', 'net', 'network', 'new', 'news', 'newspaper', 'nfl', 'nice', 'nigeria', 'nigga', 'night', 'non', 'north', 'nsfw', 'number', 'nurse', 'ny', 'nyc', 'obsessed', 'occasional', 'offer', 'office', 'officer', 'official', 'oh', 'ohio', 'old', 'online', 'open', 'opinion', 'opportunity', 'order', 'organization', 'original', 'outlook', 'owner', 'page', 'pain', 'paper', 'parent', 'partner', 'party', 'passion', 'passionate', 'pc', 'peace', 'people', 'perfect', 'person', 'personal', 'pet', 'phd', 'phone', 'photo', 'photographer', 'photography', 'pic', 'pick', 'picture', 'piece', 'pin', 'pizza', 'place', 'plan', 'play', 'player', 'playing', 'plus', 'pm', 'podcast', 'poet', 'policy', 'political', 'politics', 'pop', 'porn', 'positive', 'post', 'power', 'pr', 'practice', 'premier', 'president', 'press', 'pretty', 'price', 'prince', 'princess', 'private', 'pro', 'probably', 'problem', 'producer', 'product', 'production', 'prof', 'professional', 'professor', 'profile', 'profit', 'program', 'progress', 'progressive', 'project', 'promo', 'promote', 'promoting', 'promotion', 'property', 'proud', 'provide', 'provides', 'providing', 'public', 'published', 'publisher', 'purpose', 'quality', 'que', 'queen', 'question', 'quiz', 'quote', 'radio', 'raised', 'random', 'rap', 'read', 'reader', 'reading', 'ready', 'real', 'reality', 'really', 'reason', 'record', 'red', 'register', 'related', 'relationship', 'remember', 'rendezvous', 'reporter', 'research', 'resident', 'resource', 'respect', 'rest', 'restaurant', 'retired', 'retweets', 'review', 'right', 'rip', 'road', 'rock', 'romance', 'rp', 'rt', 'rts', 'rule', 'run', 'runner', 'running', 'rzoj', 'sad', 'said', 'sale', 'san', 'save', 'say', 'sc', 'school', 'sci', 'science', 'se', 'search', 'season', 'seattle', 'second', 'secret', 'secure', 'security', 'seen', 'self', 'sell', 'selling', 'send', 'senior', 'sense', 'seo', 'series', 'service', 'serving', 'set', 'sex', 'sexy', 'shall', 'share', 'sharing', 'shit', 'shop', 'shopping', 'short', 'sign', 'simple', 'singer', 'single', 'sister', 'site', 'sleep', 'small', 'smile', 'snap', 'snapchat', 'soccer', 'social', 'socialmedia', 'society', 'software', 'solution', 'son', 'song', 'songwriter', 'soon', 'sorry', 'soul', 'sound', 'source', 'south', 'southern', 'space', 'speak', 'speaker', 'special', 'specialist', 'specializing', 'spirit', 'spiritually', 'sport', 'st', 'stan', 'stand', 'star', 'start', 'started', 'startup', 'state', 'station', 'stay', 'step', 'stock', 'stop', 'store', 'story', 'straight', 'strategist', 'strategy', 'stream', 'streamer', 'street', 'strength', 'strong', 'student', 'study', 'stuff', 'style', 'subscribe', 'success', 'sun', 'super', 'support', 'supporter', 'supporting', 'sure', 'sweet', 'ta', 'taken', 'taking', 'talent', 'talk', 'talkradio', 'targeted', 'tax', 'taylor', 'tea', 'teacher', 'team', 'tech', 'technology', 'tell', 'tennis', 'texas', 'th', 'thank', 'thanks', 'theatre', 'thing', 'think', 'thinking', 'thought', 'ticket', 'time', 'tip', 'today', 'tour', 'town', 'track', 'trade', 'trainer', 'training', 'trash', 'travel', 'traveler', 'traveller', 'trend', 'true', 'trump', 'trust', 'truth', 'try', 'trying', 'turn', 'tv', 'tweet', 'tweeting', 'tweetmyjobs', 'twitch', 'twitter', 'type', 'uk', 'unique', 'united', 'universe', 'university', 'update', 'ur', 'urban', 'usa', 'use', 'using', 'ux', 'vegan', 'veteran', 'vibe', 'video', 'view', 'vintage', 'visit', 'voice', 'volunteer', 'wait', 'walk', 'walking', 'wan', 'want', 'war', 'warrior', 'washington', 'watch', 'watching', 'water', 'way', 'wear', 'weather', 'web', 'website', 'wedding', 'week', 'welcome', 'west', 'white', 'wife', 'wild', 'win', 'wine', 'winner', 'winning', 'wish', 'wolf', 'woman', 'wonderful', 'word', 'work', 'worker', 'working', 'world', 'worldwide', 'worth', 'wrestling', 'write', 'writer', 'writing', 'wrong', 'wwe', 'xx', 'ya', 'yeah', 'year', 'yes', 'yo', 'yoga', 'york', 'young', 'youth', 'youtube', 'youtuber', 'yr', 'zayn']\n"
     ]
    }
   ],
   "source": [
    "# We will implement \"bag of words\" method\n",
    "from sklearn.feature_extraction.text import CountVectorizer\n",
    "max_features = 1000 # we can choose how many features we want to add \n",
    "cv = CountVectorizer(max_features=max_features, stop_words = \"english\")# in this method, we remove the stopwords (irrelevant words) in English language. (like \"of\", \"and\", \"the\" etc.)\n",
    "matrix = cv.fit_transform(description_list).toarray() # to create a matrix with new version texts\n",
    "\n",
    "print(\"Top used {} words: {}\".format(max_features, cv.get_feature_names())) # we can check here the top used words"
   ]
  },
  {
   "cell_type": "code",
   "execution_count": 12,
   "metadata": {},
   "outputs": [],
   "source": [
    "y = data.iloc[:, 0].values # we only select the gender column\n",
    "x = matrix"
   ]
  },
  {
   "cell_type": "code",
   "execution_count": 13,
   "metadata": {},
   "outputs": [],
   "source": [
    "# train the test split\n",
    "from sklearn.model_selection import train_test_split\n",
    "\n",
    "x_train, x_test, y_train, y_test = train_test_split(x, y, test_size = 0.2, random_state = 42) #we split test size 0.2"
   ]
  },
  {
   "cell_type": "code",
   "execution_count": 14,
   "metadata": {},
   "outputs": [],
   "source": [
    "def getAccuracy(y_test, y_pred): # instead of code reputation this function provides to find accuracy score\n",
    "    return 100.0 * accuracy_score(y_test, y_pred)"
   ]
  },
  {
   "cell_type": "code",
   "execution_count": 35,
   "metadata": {
    "scrolled": false
   },
   "outputs": [
    {
     "name": "stdout",
     "output_type": "stream",
     "text": [
      "Random Forest Model accuracy(%): 58.71\n"
     ]
    }
   ],
   "source": [
    "# Random Forest Implementation\n",
    "from sklearn.ensemble import RandomForestClassifier\n",
    "\n",
    "# training\n",
    "RandomForest = RandomForestClassifier()\n",
    "RandomForest.fit(x_train, y_train)\n",
    "\n",
    "# prediction\n",
    "y_pred = RandomForest.predict(x_test)\n",
    "\n",
    "print('%s: %.2f' % ('Random Forest Model accuracy(%)', getAccuracy(y_test, y_pred))) # calling getAccuracy function"
   ]
  },
  {
   "cell_type": "code",
   "execution_count": 37,
   "metadata": {},
   "outputs": [
    {
     "name": "stdout",
     "output_type": "stream",
     "text": [
      "Gaussian Naive Bayes accuracy(%): 56.88\n"
     ]
    }
   ],
   "source": [
    "# Gaussian Naive Bayes Implementation\n",
    "from sklearn.naive_bayes import GaussianNB\n",
    "\n",
    "# training\n",
    "GaussianNaiveBayes = GaussianNB()\n",
    "GaussianNaiveBayes.fit(x_train, y_train)\n",
    "\n",
    "# prediction\n",
    "y_pred = GaussianNaiveBayes.predict(x_test)\n",
    "\n",
    "print('%s: %.2f' % ('Gaussian Naive Bayes accuracy(%)', getAccuracy(y_test, y_pred)))"
   ]
  },
  {
   "cell_type": "code",
   "execution_count": 15,
   "metadata": {},
   "outputs": [
    {
     "name": "stdout",
     "output_type": "stream",
     "text": [
      "Decision Tree accuracy(%): 53.17\n"
     ]
    }
   ],
   "source": [
    "# Decision Tree Classifier Implementation\n",
    "from sklearn.tree import DecisionTreeClassifier\n",
    "\n",
    "# training\n",
    "DecisionTree = DecisionTreeClassifier(criterion = 'entropy', random_state = 0)\n",
    "DecisionTree.fit(x_train, y_train)\n",
    "\n",
    "# prediction\n",
    "y_pred = DecisionTree.predict(x_test)\n",
    "\n",
    "print('%s: %.2f' % ('Decision Tree accuracy(%)', getAccuracy(y_test, y_pred)))"
   ]
  },
  {
   "cell_type": "code",
   "execution_count": 39,
   "metadata": {},
   "outputs": [],
   "source": [
    "from sklearn.model_selection import cross_val_score\n",
    "from sklearn.model_selection import StratifiedKFold # Provides train/test indices to split data in train/test sets.\n",
    "\n",
    "GaussianNaiveBayes = GaussianNB()\n",
    "kfold = StratifiedKFold(n_splits=10, random_state=42, shuffle=True)\n",
    "cv_results = cross_val_score(GaussianNaiveBayes, x_train, y_train, cv=kfold, scoring='accuracy')"
   ]
  },
  {
   "cell_type": "code",
   "execution_count": 40,
   "metadata": {},
   "outputs": [
    {
     "name": "stdout",
     "output_type": "stream",
     "text": [
      "Gaussian Naive Bayes accuracy(%): 55.85\n"
     ]
    }
   ],
   "source": [
    "print('%s: %.2f' % ('Gaussian Naive Bayes accuracy(%)', cv_results.mean() * 100))"
   ]
  },
  {
   "cell_type": "code",
   "execution_count": 16,
   "metadata": {},
   "outputs": [],
   "source": [
    "from sklearn.metrics import confusion_matrix\n",
    "\n",
    "cm = confusion_matrix(y_test,y_pred)\n"
   ]
  },
  {
   "cell_type": "code",
   "execution_count": 17,
   "metadata": {},
   "outputs": [
    {
     "data": {
      "image/png": "[encoded data removed]",
      "text/plain": [
       "<Figure size 432x288 with 1 Axes>"
      ]
     },
     "metadata": {
      "needs_background": "light"
     },
     "output_type": "display_data"
    }
   ],
   "source": [
    "import matplotlib.pyplot as plt\n",
    "import seaborn as sns\n",
    "\n",
    "sns.heatmap(cm,cbar=False,annot=True,cmap=\"Blues\",fmt=\"d\")\n",
    "plt.show()"
   ]
  },
  {
   "cell_type": "code",
   "execution_count": null,
   "metadata": {},
   "outputs": [],
   "source": []
  }
 ],
 "metadata": {
  "kernelspec": {
   "display_name": "Python 3",
   "language": "python",
   "name": "python3"
  },
  "language_info": {
   "codemirror_mode": {
    "name": "ipython",
    "version": 3
   },
   "file_extension": ".py",
   "mimetype": "text/x-python",
   "name": "python",
   "nbconvert_exporter": "python",
   "pygments_lexer": "ipython3",
   "version": "3.7.6"
  }
 },
 "nbformat": 4,
 "nbformat_minor": 2
}
